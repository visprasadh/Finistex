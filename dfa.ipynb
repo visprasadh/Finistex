{
 "metadata": {
  "language_info": {
   "codemirror_mode": {
    "name": "ipython",
    "version": 3
   },
   "file_extension": ".py",
   "mimetype": "text/x-python",
   "name": "python",
   "nbconvert_exporter": "python",
   "pygments_lexer": "ipython3",
   "version": "3.8.8"
  },
  "orig_nbformat": 2,
  "kernelspec": {
   "name": "python388jvsc74a57bd03fdec2a86cbd306d068fc6d74c183f77870aa207bc05e8e0909268e3162c9742",
   "display_name": "Python 3.8.8 64-bit ('anaconda3': virtualenv)"
  }
 },
 "nbformat": 4,
 "nbformat_minor": 2,
 "cells": [
  {
   "cell_type": "code",
   "execution_count": 1,
   "metadata": {},
   "outputs": [],
   "source": [
    "dfa = \"<#A(0[A]1[B])B(0[C]1[B])*C(0[A]1[B])>\"\n",
    "dfa_dict = {}"
   ]
  },
  {
   "cell_type": "code",
   "execution_count": 2,
   "metadata": {},
   "outputs": [],
   "source": [
    "def isVal(val):\n",
    "    if val != \"<\" and val != \">\" and val != \"(\" and val != \")\" and val != \"[\" and val != \"]\": return True\n",
    "    else: return False"
   ]
  },
  {
   "cell_type": "code",
   "execution_count": 3,
   "metadata": {},
   "outputs": [],
   "source": [
    "def parser(val):\n",
    "    dfa_dict.update({\"start\": \"\"})\n",
    "    dfa_dict.update({\"final\": []})\n",
    "    dfa_dict.update({\"transitions\": {}})\n",
    "    start = final = sources = rules = targets = False\n",
    "    init_counter = -1\n",
    "    end_counter = -1\n",
    "    state = \"\"\n",
    "    key = \"\"\n",
    "    for i, x in enumerate(val):\n",
    "\n",
    "        if x == \"<\": sources = True\n",
    "        elif x == \">\":\n",
    "            sources = False\n",
    "            break\n",
    "        elif x == \"#\": \n",
    "            start = True\n",
    "            init_counter = i+1\n",
    "        elif x == \"*\":\n",
    "            final = True\n",
    "\n",
    "        elif x == \"(\":\n",
    "            sources = False\n",
    "            rules = True\n",
    "            end_counter = i\n",
    "            state = val[init_counter:end_counter]\n",
    "            end_counter = -1\n",
    "            init_counter = i+1\n",
    "            if start:\n",
    "                dfa_dict[\"start\"] = state\n",
    "                start = False\n",
    "            if final:\n",
    "                state = state.replace(\"*\",\"\")\n",
    "                dfa_dict[\"final\"].append(state)\n",
    "                final = False\n",
    "            dfa_dict[\"transitions\"].update({state: {}})\n",
    "        elif x == \")\":\n",
    "            rules = False\n",
    "            sources = True\n",
    "            state = \"\"\n",
    "            init_counter = i+1\n",
    "\n",
    "        elif x == \"[\":\n",
    "            rules = False\n",
    "            targets = True\n",
    "            end_counter = i\n",
    "            key = val[init_counter:end_counter]\n",
    "            init_counter = i + 1\n",
    "            end_counter = -1\n",
    "            dfa_dict[\"transitions\"][state].update({key: []})\n",
    "        elif x == \"]\": # Target state parsing will be handled at elif x == \",\" at NFA\n",
    "            end_counter = i\n",
    "            temp = val[init_counter:end_counter]\n",
    "            init_counter = end_counter = -1\n",
    "            dfa_dict[\"transitions\"][state][key].append(temp)\n",
    "            targets = False\n",
    "            rules = True\n",
    "            init_counter = i+1\n",
    "\n",
    "        \n",
    "        elif isVal:\n",
    "            continue\n",
    "\n",
    "        else:\n",
    "            print(x)\n",
    "            print(\"Syntax Error\")\n",
    "            break   \n",
    "\n",
    "    print(dfa_dict)\n"
   ]
  },
  {
   "cell_type": "code",
   "execution_count": 4,
   "metadata": {},
   "outputs": [
    {
     "output_type": "stream",
     "name": "stdout",
     "text": [
      "{'start': 'A', 'final': ['C'], 'transitions': {'A': {'0': ['A'], '1': ['B']}, 'B': {'0': ['C'], '1': ['B']}, 'C': {'0': ['A'], '1': ['B']}}}\n"
     ]
    }
   ],
   "source": [
    "parser(dfa)"
   ]
  },
  {
   "cell_type": "code",
   "execution_count": 5,
   "metadata": {},
   "outputs": [],
   "source": [
    "def validator(val):\n",
    "    current_state = dfa_dict['start']\n",
    "    for i, x in enumerate(val):\n",
    "        current_state = dfa_dict['transitions'][current_state][x][0]\n",
    "    if current_state in dfa_dict['final']:\n",
    "        print('String accepted')\n",
    "    else:\n",
    "        print('String rejected')"
   ]
  },
  {
   "cell_type": "code",
   "execution_count": 9,
   "metadata": {},
   "outputs": [
    {
     "output_type": "stream",
     "name": "stdout",
     "text": [
      "String accepted\n"
     ]
    }
   ],
   "source": [
    "x = \"10101010\"\n",
    "validator(x)"
   ]
  },
  {
   "cell_type": "code",
   "execution_count": null,
   "metadata": {},
   "outputs": [],
   "source": []
  },
  {
   "cell_type": "code",
   "execution_count": null,
   "metadata": {},
   "outputs": [],
   "source": []
  }
 ]
}