{
 "metadata": {
  "language_info": {
   "codemirror_mode": {
    "name": "ipython",
    "version": 3
   },
   "file_extension": ".py",
   "mimetype": "text/x-python",
   "name": "python",
   "nbconvert_exporter": "python",
   "pygments_lexer": "ipython3",
   "version": "3.8.8"
  },
  "orig_nbformat": 2,
  "kernelspec": {
   "name": "python388jvsc74a57bd03fdec2a86cbd306d068fc6d74c183f77870aa207bc05e8e0909268e3162c9742",
   "display_name": "Python 3.8.8 64-bit ('anaconda3': virtualenv)"
  }
 },
 "nbformat": 4,
 "nbformat_minor": 2,
 "cells": [
  {
   "cell_type": "code",
   "execution_count": 71,
   "metadata": {},
   "outputs": [],
   "source": [
    "fa = \"<#Start(0[Start,Middle]1[Middle])Middle(0[Final]1[Middle,Final])*Final(0[Start]1[Middle])>\"\n",
    "fa_dict = {}"
   ]
  },
  {
   "cell_type": "code",
   "execution_count": 72,
   "metadata": {},
   "outputs": [],
   "source": [
    "def isVal(val):\n",
    "    if val != \"<\" and val != \">\" and val != \"(\" and val != \")\" and val != \"[\" and val != \"]\": return True\n",
    "    else: return False"
   ]
  },
  {
   "cell_type": "code",
   "execution_count": 73,
   "metadata": {},
   "outputs": [],
   "source": [
    "def parser(val):\n",
    "    fa_dict.update({\"start\": \"\"})\n",
    "    fa_dict.update({\"final\": []})\n",
    "    fa_dict.update({\"transitions\": {}})\n",
    "    start = final = sources = rules = targets = False\n",
    "    init_counter = -1\n",
    "    end_counter = -1\n",
    "    state = \"\"\n",
    "    key = \"\"\n",
    "    for i, x in enumerate(val):\n",
    "\n",
    "        if x == \"<\": sources = True\n",
    "        elif x == \">\":\n",
    "            sources = False\n",
    "            break\n",
    "        elif x == \"#\": \n",
    "            start = True\n",
    "            init_counter = i+1\n",
    "        elif x == \"*\":\n",
    "            final = True\n",
    "\n",
    "        elif x == \"(\":\n",
    "            sources = False\n",
    "            rules = True\n",
    "            end_counter = i\n",
    "            state = val[init_counter:end_counter]\n",
    "            end_counter = -1\n",
    "            init_counter = i+1\n",
    "            if start:\n",
    "                fa_dict[\"start\"] = state\n",
    "                start = False\n",
    "            if final:\n",
    "                state = state.replace(\"*\",\"\")\n",
    "                fa_dict[\"final\"].append(state)\n",
    "                final = False\n",
    "            fa_dict[\"transitions\"].update({state: {}})\n",
    "        elif x == \")\":\n",
    "            rules = False\n",
    "            sources = True\n",
    "            state = \"\"\n",
    "            init_counter = i+1\n",
    "\n",
    "        elif x == \"[\":\n",
    "            rules = False\n",
    "            targets = True\n",
    "            end_counter = i\n",
    "            key = val[init_counter:end_counter]\n",
    "            init_counter = i + 1\n",
    "            end_counter = -1\n",
    "            fa_dict[\"transitions\"][state].update({key: []})\n",
    "        elif x == \"]\": \n",
    "            end_counter = i\n",
    "            temp = val[init_counter:end_counter]\n",
    "            init_counter = end_counter = -1\n",
    "            fa_dict[\"transitions\"][state][key].append(temp)\n",
    "            targets = False\n",
    "            rules = True\n",
    "            init_counter = i+1\n",
    "\n",
    "        elif x == \",\":\n",
    "            end_counter = i\n",
    "            temp = val[init_counter:end_counter]\n",
    "            init_counter = end_counter = -1\n",
    "            fa_dict[\"transitions\"][state][key].append(temp)\n",
    "            init_counter = i+1\n",
    "\n",
    "        else:\n",
    "            continue  \n",
    "\n",
    "    print(fa_dict)\n"
   ]
  },
  {
   "cell_type": "code",
   "execution_count": 74,
   "metadata": {},
   "outputs": [],
   "source": [
    "def validator(val):\n",
    "    current_state = [fa_dict[\"start\"]]\n",
    "    is_valid = False\n",
    "    for i, x in enumerate(val):\n",
    "        print(current_state, end = \"->\")\n",
    "        temp = []\n",
    "        copycat = current_state.copy()\n",
    "        for j, y in enumerate(current_state):\n",
    "            temp += fa_dict['transitions'][y][x]\n",
    "            copycat.pop(0)\n",
    "        current_state = copycat.copy()\n",
    "        current_state += temp\n",
    "\n",
    "    print(current_state)\n",
    "    for k, z in enumerate(current_state):\n",
    "        if z in fa_dict[\"final\"]:\n",
    "            is_valid = True\n",
    "        break\n",
    "    if is_valid:\n",
    "        print(\"String accepted\")\n",
    "    else:\n",
    "        print(\"String rejected\")"
   ]
  },
  {
   "cell_type": "code",
   "execution_count": 75,
   "metadata": {},
   "outputs": [
    {
     "output_type": "stream",
     "name": "stdout",
     "text": [
      "{'start': 'Start', 'final': ['Final'], 'transitions': {'Start': {'0': ['Start', 'Middle'], '1': ['Middle']}, 'Middle': {'0': ['Final'], '1': ['Middle', 'Final']}, 'Final': {'0': ['Start'], '1': ['Middle']}}}\n"
     ]
    }
   ],
   "source": [
    "parser(fa)"
   ]
  },
  {
   "cell_type": "code",
   "execution_count": 77,
   "metadata": {},
   "outputs": [
    {
     "output_type": "stream",
     "name": "stdout",
     "text": [
      "['Start']->['Middle']->['Middle', 'Final']->['Middle', 'Final', 'Middle']->['Middle', 'Final', 'Middle', 'Middle', 'Final']->['Middle', 'Final', 'Middle', 'Middle', 'Final', 'Middle', 'Final', 'Middle']->['Final', 'Start', 'Final', 'Final', 'Start', 'Final', 'Start', 'Final']\nString accepted\n"
     ]
    }
   ],
   "source": [
    "validator('111110')"
   ]
  },
  {
   "cell_type": "code",
   "execution_count": null,
   "metadata": {},
   "outputs": [],
   "source": []
  },
  {
   "cell_type": "code",
   "execution_count": null,
   "metadata": {},
   "outputs": [],
   "source": []
  },
  {
   "cell_type": "code",
   "execution_count": null,
   "metadata": {},
   "outputs": [],
   "source": []
  }
 ]
}